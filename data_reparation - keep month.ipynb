{
 "cells": [
  {
   "cell_type": "code",
   "execution_count": 34,
   "metadata": {},
   "outputs": [],
   "source": [
    "import pandas as pd\n",
    "import matplotlib.pyplot as plt\n",
    "import matplotlib\n",
    "import numpy as nps\n",
    "from geopy.extra.rate_limiter import RateLimiter\n",
    "from geopy.geocoders import Nominatim\n",
    "import folium\n",
    "from sklearn.cluster import KMeans ,AgglomerativeClustering\n",
    "import gensim"
   ]
  },
  {
   "cell_type": "code",
   "execution_count": 35,
   "metadata": {},
   "outputs": [
    {
     "output_type": "stream",
     "name": "stdout",
     "text": "month  TermOfPaymentDays  Amount_netCN  DefaultStatus  \\\n0     12                110        204.59              0   \n1     12                 52        134.79              0   \n2     12                 30         13.89              0   \n3     12                 30         19.98              0   \n4     12                 30          9.99              0   \n\n                     Email  Age    ZIP  Country  ProbDefault  ScoreValue  \\\n0        WHohlfeld@gmx.net   68  15890  Germany     0.026832       502.0   \n1   Silvia_wagner95@web.de   23  49632  Germany     0.010632       576.0   \n2                      NaN   67   2899  Germany     0.022672       515.0   \n3  marinellabeyer@yahoo.de   51  48599  Germany     0.057552       472.0   \n4                      NaN   67   6458  Germany     0.005112       645.0   \n\n                    State  GDP by State  Unemployment rate  \n0             Brandenburg       29400.0              0.057  \n1     Lower Saxony-Anhalt       37100.0              0.051  \n2                  Saxony       31000.0              0.053  \n3  North Rhine-Westphalia       39400.0              0.066  \n4           Saxony-Anhalt       28700.0              0.070  \n"
    }
   ],
   "source": [
    "#Read data\n",
    "data = pd.read_excel('MSdata.xlsx')\n",
    "#data.drop(['InvoiceId', 'InvoiceNumberFull'], axis=1, inplace=True)\n",
    "print(data.head())"
   ]
  },
  {
   "cell_type": "code",
   "execution_count": 36,
   "metadata": {},
   "outputs": [
    {
     "output_type": "stream",
     "name": "stdout",
     "text": "<class 'pandas.core.frame.DataFrame'>\nRangeIndex: 15125 entries, 0 to 15124\nData columns (total 13 columns):\nmonth                15125 non-null int64\nTermOfPaymentDays    15125 non-null int64\nAmount_netCN         15125 non-null float64\nDefaultStatus        15125 non-null int64\nEmail                4418 non-null object\nAge                  15125 non-null int64\nZIP                  15125 non-null int64\nCountry              15125 non-null object\nProbDefault          14813 non-null float64\nScoreValue           15124 non-null float64\nState                15082 non-null object\nGDP by State         15082 non-null float64\nUnemployment rate    15082 non-null float64\ndtypes: float64(5), int64(5), object(3)\nmemory usage: 1.5+ MB\n"
    }
   ],
   "source": [
    "data.info()"
   ]
  },
  {
   "cell_type": "code",
   "execution_count": 37,
   "metadata": {},
   "outputs": [
    {
     "output_type": "stream",
     "name": "stdout",
     "text": "<class 'pandas.core.frame.DataFrame'>\nInt64Index: 14771 entries, 0 to 15124\nData columns (total 13 columns):\nmonth                14771 non-null int64\nTermOfPaymentDays    14771 non-null int64\nAmount_netCN         14771 non-null float64\nDefaultStatus        14771 non-null int64\nEmail                4327 non-null object\nAge                  14771 non-null int64\nZIP                  14771 non-null int64\nCountry              14771 non-null object\nProbDefault          14771 non-null float64\nScoreValue           14771 non-null float64\nState                14771 non-null object\nGDP by State         14771 non-null float64\nUnemployment rate    14771 non-null float64\ndtypes: float64(5), int64(5), object(3)\nmemory usage: 1.6+ MB\n"
    }
   ],
   "source": [
    "#Drop Null rows\n",
    "data.dropna(subset=['State', 'ScoreValue' ,'ProbDefault'], inplace=True)\n",
    "data.reset_index(drop=True)\n",
    "#check null values again\n",
    "data.info()"
   ]
  },
  {
   "cell_type": "code",
   "execution_count": 38,
   "metadata": {},
   "outputs": [
    {
     "output_type": "stream",
     "name": "stdout",
     "text": "<class 'pandas.core.frame.DataFrame'>\nInt64Index: 14771 entries, 0 to 15124\nData columns (total 8 columns):\nmonth                14771 non-null int64\nAge                  14771 non-null int64\nAmount_netCN         14771 non-null float64\nTermOfPaymentDays    14771 non-null int64\nGDP by State         14771 non-null float64\nUnemployment rate    14771 non-null float64\nZIP                  14771 non-null int64\nDefaultStatus        14771 non-null int64\ndtypes: float64(3), int64(5)\nmemory usage: 1.0 MB\n"
    }
   ],
   "source": [
    "#Data with all needed features\n",
    "Data_clean = data[['month', \"Age\",\"Amount_netCN\", \"TermOfPaymentDays\", 'GDP by State', 'Unemployment rate', 'ZIP', \"DefaultStatus\" ]]\n",
    "Data_clean.info()"
   ]
  },
  {
   "cell_type": "code",
   "execution_count": 39,
   "metadata": {},
   "outputs": [
    {
     "output_type": "stream",
     "name": "stdout",
     "text": "Index([], dtype='object')\n"
    }
   ],
   "source": [
    "# Print a null value column array\n",
    "print(Data_clean.columns[Data_clean.isnull().any()])"
   ]
  },
  {
   "cell_type": "code",
   "execution_count": 40,
   "metadata": {},
   "outputs": [],
   "source": [
    "#Creating dummy variables\n",
    "month = pd.get_dummies(Data_clean['month'])\n",
    "len(month.columns)\n",
    "name_month = []\n",
    "for i in range(1,len(month.columns)+1):\n",
    "    name_month.append('month'+str(i))\n",
    "   \n",
    "month.columns = name_month"
   ]
  },
  {
   "cell_type": "code",
   "execution_count": 41,
   "metadata": {},
   "outputs": [
    {
     "output_type": "execute_result",
     "data": {
      "text/plain": "   month  Age  Amount_netCN  TermOfPaymentDays  GDP by State  \\\n0     12   68        204.59                110       29400.0   \n1     12   23        134.79                 52       37100.0   \n2     12   67         13.89                 30       31000.0   \n3     12   51         19.98                 30       39400.0   \n4     12   67          9.99                 30       28700.0   \n5     12   53         59.90                 30       46300.0   \n6     12   66          9.99                 30       27900.0   \n7     12   66          9.90                 30       28700.0   \n8     12   63         59.90                 30       27900.0   \n9     12   78          9.90                 30       46300.0   \n\n   Unemployment rate    ZIP  DefaultStatus  month1  month2  month3  month4  \\\n0              0.057  15890              0       0       0       0       0   \n1              0.051  49632              0       0       0       0       0   \n2              0.053   2899              0       0       0       0       0   \n3              0.066  48599              0       0       0       0       0   \n4              0.070   6458              0       0       0       0       0   \n5              0.031  89604              0       0       0       0       0   \n6              0.067  17493              0       0       0       0       0   \n7              0.070  39615              0       0       0       0       0   \n8              0.067  18195              0       0       0       0       0   \n9              0.031  79244              0       0       0       0       0   \n\n   month5  \n0       1  \n1       1  \n2       1  \n3       1  \n4       1  \n5       1  \n6       1  \n7       1  \n8       1  \n9       1  ",
      "text/html": "<div>\n<style scoped>\n    .dataframe tbody tr th:only-of-type {\n        vertical-align: middle;\n    }\n\n    .dataframe tbody tr th {\n        vertical-align: top;\n    }\n\n    .dataframe thead th {\n        text-align: right;\n    }\n</style>\n<table border=\"1\" class=\"dataframe\">\n  <thead>\n    <tr style=\"text-align: right;\">\n      <th></th>\n      <th>month</th>\n      <th>Age</th>\n      <th>Amount_netCN</th>\n      <th>TermOfPaymentDays</th>\n      <th>GDP by State</th>\n      <th>Unemployment rate</th>\n      <th>ZIP</th>\n      <th>DefaultStatus</th>\n      <th>month1</th>\n      <th>month2</th>\n      <th>month3</th>\n      <th>month4</th>\n      <th>month5</th>\n    </tr>\n  </thead>\n  <tbody>\n    <tr>\n      <td>0</td>\n      <td>12</td>\n      <td>68</td>\n      <td>204.59</td>\n      <td>110</td>\n      <td>29400.0</td>\n      <td>0.057</td>\n      <td>15890</td>\n      <td>0</td>\n      <td>0</td>\n      <td>0</td>\n      <td>0</td>\n      <td>0</td>\n      <td>1</td>\n    </tr>\n    <tr>\n      <td>1</td>\n      <td>12</td>\n      <td>23</td>\n      <td>134.79</td>\n      <td>52</td>\n      <td>37100.0</td>\n      <td>0.051</td>\n      <td>49632</td>\n      <td>0</td>\n      <td>0</td>\n      <td>0</td>\n      <td>0</td>\n      <td>0</td>\n      <td>1</td>\n    </tr>\n    <tr>\n      <td>2</td>\n      <td>12</td>\n      <td>67</td>\n      <td>13.89</td>\n      <td>30</td>\n      <td>31000.0</td>\n      <td>0.053</td>\n      <td>2899</td>\n      <td>0</td>\n      <td>0</td>\n      <td>0</td>\n      <td>0</td>\n      <td>0</td>\n      <td>1</td>\n    </tr>\n    <tr>\n      <td>3</td>\n      <td>12</td>\n      <td>51</td>\n      <td>19.98</td>\n      <td>30</td>\n      <td>39400.0</td>\n      <td>0.066</td>\n      <td>48599</td>\n      <td>0</td>\n      <td>0</td>\n      <td>0</td>\n      <td>0</td>\n      <td>0</td>\n      <td>1</td>\n    </tr>\n    <tr>\n      <td>4</td>\n      <td>12</td>\n      <td>67</td>\n      <td>9.99</td>\n      <td>30</td>\n      <td>28700.0</td>\n      <td>0.070</td>\n      <td>6458</td>\n      <td>0</td>\n      <td>0</td>\n      <td>0</td>\n      <td>0</td>\n      <td>0</td>\n      <td>1</td>\n    </tr>\n    <tr>\n      <td>5</td>\n      <td>12</td>\n      <td>53</td>\n      <td>59.90</td>\n      <td>30</td>\n      <td>46300.0</td>\n      <td>0.031</td>\n      <td>89604</td>\n      <td>0</td>\n      <td>0</td>\n      <td>0</td>\n      <td>0</td>\n      <td>0</td>\n      <td>1</td>\n    </tr>\n    <tr>\n      <td>6</td>\n      <td>12</td>\n      <td>66</td>\n      <td>9.99</td>\n      <td>30</td>\n      <td>27900.0</td>\n      <td>0.067</td>\n      <td>17493</td>\n      <td>0</td>\n      <td>0</td>\n      <td>0</td>\n      <td>0</td>\n      <td>0</td>\n      <td>1</td>\n    </tr>\n    <tr>\n      <td>7</td>\n      <td>12</td>\n      <td>66</td>\n      <td>9.90</td>\n      <td>30</td>\n      <td>28700.0</td>\n      <td>0.070</td>\n      <td>39615</td>\n      <td>0</td>\n      <td>0</td>\n      <td>0</td>\n      <td>0</td>\n      <td>0</td>\n      <td>1</td>\n    </tr>\n    <tr>\n      <td>8</td>\n      <td>12</td>\n      <td>63</td>\n      <td>59.90</td>\n      <td>30</td>\n      <td>27900.0</td>\n      <td>0.067</td>\n      <td>18195</td>\n      <td>0</td>\n      <td>0</td>\n      <td>0</td>\n      <td>0</td>\n      <td>0</td>\n      <td>1</td>\n    </tr>\n    <tr>\n      <td>9</td>\n      <td>12</td>\n      <td>78</td>\n      <td>9.90</td>\n      <td>30</td>\n      <td>46300.0</td>\n      <td>0.031</td>\n      <td>79244</td>\n      <td>0</td>\n      <td>0</td>\n      <td>0</td>\n      <td>0</td>\n      <td>0</td>\n      <td>1</td>\n    </tr>\n  </tbody>\n</table>\n</div>"
     },
     "metadata": {},
     "execution_count": 41
    }
   ],
   "source": [
    "#Concatenating the dummy variables to the original dataset \n",
    "Data_clean=pd.concat([Data_clean,month],axis=1)\n",
    "Data_clean.head(10)"
   ]
  },
  {
   "cell_type": "code",
   "execution_count": 42,
   "metadata": {},
   "outputs": [
    {
     "output_type": "stream",
     "name": "stdout",
     "text": "<class 'pandas.core.frame.DataFrame'>\nInt64Index: 14771 entries, 0 to 15124\nData columns (total 13 columns):\nmonth                14771 non-null int64\nAge                  14771 non-null int64\nAmount_netCN         14771 non-null float64\nTermOfPaymentDays    14771 non-null int64\nGDP by State         14771 non-null float64\nUnemployment rate    14771 non-null float64\nZIP                  14771 non-null int64\nDefaultStatus        14771 non-null int64\nmonth1               14771 non-null uint8\nmonth2               14771 non-null uint8\nmonth3               14771 non-null uint8\nmonth4               14771 non-null uint8\nmonth5               14771 non-null uint8\ndtypes: float64(3), int64(5), uint8(5)\nmemory usage: 1.1 MB\n"
    }
   ],
   "source": [
    "Data_clean.info()"
   ]
  },
  {
   "cell_type": "code",
   "execution_count": 43,
   "metadata": {},
   "outputs": [
    {
     "output_type": "execute_result",
     "data": {
      "text/plain": "Empty DataFrame\nColumns: [month, Age, Amount_netCN, TermOfPaymentDays, GDP by State, Unemployment rate, ZIP, DefaultStatus, month1, month2, month3, month4, month5]\nIndex: []",
      "text/html": "<div>\n<style scoped>\n    .dataframe tbody tr th:only-of-type {\n        vertical-align: middle;\n    }\n\n    .dataframe tbody tr th {\n        vertical-align: top;\n    }\n\n    .dataframe thead th {\n        text-align: right;\n    }\n</style>\n<table border=\"1\" class=\"dataframe\">\n  <thead>\n    <tr style=\"text-align: right;\">\n      <th></th>\n      <th>month</th>\n      <th>Age</th>\n      <th>Amount_netCN</th>\n      <th>TermOfPaymentDays</th>\n      <th>GDP by State</th>\n      <th>Unemployment rate</th>\n      <th>ZIP</th>\n      <th>DefaultStatus</th>\n      <th>month1</th>\n      <th>month2</th>\n      <th>month3</th>\n      <th>month4</th>\n      <th>month5</th>\n    </tr>\n  </thead>\n  <tbody>\n  </tbody>\n</table>\n</div>"
     },
     "metadata": {},
     "execution_count": 43
    }
   ],
   "source": [
    "Data_clean[Data_clean['ZIP'] =='50']"
   ]
  },
  {
   "cell_type": "code",
   "execution_count": 44,
   "metadata": {},
   "outputs": [],
   "source": [
    "# Data_clean['domain'] = Data_clean['Email'].str.split('@').str[1]\n",
    "# Data_clean['domain'].head()\n",
    "# Data_clean['domain'] = Data_clean['domain'].str.lower()"
   ]
  },
  {
   "cell_type": "code",
   "execution_count": 45,
   "metadata": {},
   "outputs": [],
   "source": [
    "# df_email=Data_clean['domain'].value_counts(normalize=True)\n",
    "# df_email.head()"
   ]
  },
  {
   "cell_type": "code",
   "execution_count": 46,
   "metadata": {},
   "outputs": [],
   "source": [
    "# df_email_dict = df_email.to_dict() "
   ]
  },
  {
   "cell_type": "code",
   "execution_count": 47,
   "metadata": {},
   "outputs": [],
   "source": [
    "# Data_clean['Email_popularity'] = Data_clean['domain'].apply(lambda x: df_email_dict[x])\n",
    "# #Data_clean.head()"
   ]
  },
  {
   "cell_type": "code",
   "execution_count": 48,
   "metadata": {},
   "outputs": [
    {
     "output_type": "execute_result",
     "data": {
      "text/plain": "DefaultStatus      0    1    All\nZIP                             \n1067               2    0      2\n1069               2    0      2\n1097               3    0      3\n1099               6    0      6\n1108               1    0      1\n...              ...  ...    ...\n99988              1    0      1\n99991              2    0      2\n99994              1    0      1\n99998              1    0      1\nAll            13865  906  14771\n\n[5290 rows x 3 columns]",
      "text/html": "<div>\n<style scoped>\n    .dataframe tbody tr th:only-of-type {\n        vertical-align: middle;\n    }\n\n    .dataframe tbody tr th {\n        vertical-align: top;\n    }\n\n    .dataframe thead th {\n        text-align: right;\n    }\n</style>\n<table border=\"1\" class=\"dataframe\">\n  <thead>\n    <tr style=\"text-align: right;\">\n      <th>DefaultStatus</th>\n      <th>0</th>\n      <th>1</th>\n      <th>All</th>\n    </tr>\n    <tr>\n      <th>ZIP</th>\n      <th></th>\n      <th></th>\n      <th></th>\n    </tr>\n  </thead>\n  <tbody>\n    <tr>\n      <td>1067</td>\n      <td>2</td>\n      <td>0</td>\n      <td>2</td>\n    </tr>\n    <tr>\n      <td>1069</td>\n      <td>2</td>\n      <td>0</td>\n      <td>2</td>\n    </tr>\n    <tr>\n      <td>1097</td>\n      <td>3</td>\n      <td>0</td>\n      <td>3</td>\n    </tr>\n    <tr>\n      <td>1099</td>\n      <td>6</td>\n      <td>0</td>\n      <td>6</td>\n    </tr>\n    <tr>\n      <td>1108</td>\n      <td>1</td>\n      <td>0</td>\n      <td>1</td>\n    </tr>\n    <tr>\n      <td>...</td>\n      <td>...</td>\n      <td>...</td>\n      <td>...</td>\n    </tr>\n    <tr>\n      <td>99988</td>\n      <td>1</td>\n      <td>0</td>\n      <td>1</td>\n    </tr>\n    <tr>\n      <td>99991</td>\n      <td>2</td>\n      <td>0</td>\n      <td>2</td>\n    </tr>\n    <tr>\n      <td>99994</td>\n      <td>1</td>\n      <td>0</td>\n      <td>1</td>\n    </tr>\n    <tr>\n      <td>99998</td>\n      <td>1</td>\n      <td>0</td>\n      <td>1</td>\n    </tr>\n    <tr>\n      <td>All</td>\n      <td>13865</td>\n      <td>906</td>\n      <td>14771</td>\n    </tr>\n  </tbody>\n</table>\n<p>5290 rows × 3 columns</p>\n</div>"
     },
     "metadata": {},
     "execution_count": 48
    }
   ],
   "source": [
    "# Create a cross table of the loan intent and status\n",
    "ZipCode =pd.crosstab(Data_clean['ZIP'], Data_clean['DefaultStatus'], margins = True)\n",
    "ZipCode"
   ]
  },
  {
   "cell_type": "code",
   "execution_count": 49,
   "metadata": {},
   "outputs": [
    {
     "output_type": "execute_result",
     "data": {
      "text/plain": "DefaultStatus  0  1  All  Feq_default_Country  Feq_default_ZipCode\nZIP                                                               \n17390          0  1    1             0.000552                  1.0\n34393          0  1    1             0.000552                  1.0\n92507          0  1    1             0.000552                  1.0\n22147          0  1    1             0.000552                  1.0\n34549          0  1    1             0.000552                  1.0\n...           .. ..  ...                  ...                  ...\n37445          1  0    1             0.000000                  0.0\n37434          3  0    3             0.000000                  0.0\n37431          3  0    3             0.000000                  0.0\n37351          4  0    4             0.000000                  0.0\n53123          2  0    2             0.000000                  0.0\n\n[5290 rows x 5 columns]",
      "text/html": "<div>\n<style scoped>\n    .dataframe tbody tr th:only-of-type {\n        vertical-align: middle;\n    }\n\n    .dataframe tbody tr th {\n        vertical-align: top;\n    }\n\n    .dataframe thead th {\n        text-align: right;\n    }\n</style>\n<table border=\"1\" class=\"dataframe\">\n  <thead>\n    <tr style=\"text-align: right;\">\n      <th>DefaultStatus</th>\n      <th>0</th>\n      <th>1</th>\n      <th>All</th>\n      <th>Feq_default_Country</th>\n      <th>Feq_default_ZipCode</th>\n    </tr>\n    <tr>\n      <th>ZIP</th>\n      <th></th>\n      <th></th>\n      <th></th>\n      <th></th>\n      <th></th>\n    </tr>\n  </thead>\n  <tbody>\n    <tr>\n      <td>17390</td>\n      <td>0</td>\n      <td>1</td>\n      <td>1</td>\n      <td>0.000552</td>\n      <td>1.0</td>\n    </tr>\n    <tr>\n      <td>34393</td>\n      <td>0</td>\n      <td>1</td>\n      <td>1</td>\n      <td>0.000552</td>\n      <td>1.0</td>\n    </tr>\n    <tr>\n      <td>92507</td>\n      <td>0</td>\n      <td>1</td>\n      <td>1</td>\n      <td>0.000552</td>\n      <td>1.0</td>\n    </tr>\n    <tr>\n      <td>22147</td>\n      <td>0</td>\n      <td>1</td>\n      <td>1</td>\n      <td>0.000552</td>\n      <td>1.0</td>\n    </tr>\n    <tr>\n      <td>34549</td>\n      <td>0</td>\n      <td>1</td>\n      <td>1</td>\n      <td>0.000552</td>\n      <td>1.0</td>\n    </tr>\n    <tr>\n      <td>...</td>\n      <td>...</td>\n      <td>...</td>\n      <td>...</td>\n      <td>...</td>\n      <td>...</td>\n    </tr>\n    <tr>\n      <td>37445</td>\n      <td>1</td>\n      <td>0</td>\n      <td>1</td>\n      <td>0.000000</td>\n      <td>0.0</td>\n    </tr>\n    <tr>\n      <td>37434</td>\n      <td>3</td>\n      <td>0</td>\n      <td>3</td>\n      <td>0.000000</td>\n      <td>0.0</td>\n    </tr>\n    <tr>\n      <td>37431</td>\n      <td>3</td>\n      <td>0</td>\n      <td>3</td>\n      <td>0.000000</td>\n      <td>0.0</td>\n    </tr>\n    <tr>\n      <td>37351</td>\n      <td>4</td>\n      <td>0</td>\n      <td>4</td>\n      <td>0.000000</td>\n      <td>0.0</td>\n    </tr>\n    <tr>\n      <td>53123</td>\n      <td>2</td>\n      <td>0</td>\n      <td>2</td>\n      <td>0.000000</td>\n      <td>0.0</td>\n    </tr>\n  </tbody>\n</table>\n<p>5290 rows × 5 columns</p>\n</div>"
     },
     "metadata": {},
     "execution_count": 49
    }
   ],
   "source": [
    "ZipCode['Feq_default_Country']=ZipCode[1]/ZipCode[1].sum()\n",
    "ZipCode['Feq_default_ZipCode']=ZipCode[1]/ZipCode['All']\n",
    "ZipCode.sort_values(by=['Feq_default_ZipCode'], ascending=False)"
   ]
  },
  {
   "cell_type": "code",
   "execution_count": 50,
   "metadata": {},
   "outputs": [],
   "source": [
    "ZipCode.drop(columns=[0, 1, 'All', 'Feq_default_Country'], inplace= True)"
   ]
  },
  {
   "cell_type": "code",
   "execution_count": 51,
   "metadata": {},
   "outputs": [
    {
     "output_type": "stream",
     "name": "stdout",
     "text": "<class 'pandas.core.frame.DataFrame'>\nIndex: 5290 entries, 1067 to All\nData columns (total 1 columns):\nFeq_default_ZipCode    5290 non-null float64\ndtypes: float64(1)\nmemory usage: 82.7+ KB\n"
    }
   ],
   "source": [
    "ZipCode.info()"
   ]
  },
  {
   "cell_type": "code",
   "execution_count": 52,
   "metadata": {},
   "outputs": [
    {
     "output_type": "stream",
     "name": "stdout",
     "text": "<class 'pandas.core.frame.DataFrame'>\nInt64Index: 14771 entries, 0 to 14770\nData columns (total 14 columns):\nmonth                  14771 non-null int64\nAge                    14771 non-null int64\nAmount_netCN           14771 non-null float64\nTermOfPaymentDays      14771 non-null int64\nGDP by State           14771 non-null float64\nUnemployment rate      14771 non-null float64\nZIP                    14771 non-null object\nDefaultStatus          14771 non-null int64\nmonth1                 14771 non-null uint8\nmonth2                 14771 non-null uint8\nmonth3                 14771 non-null uint8\nmonth4                 14771 non-null uint8\nmonth5                 14771 non-null uint8\nFeq_default_ZipCode    14771 non-null float64\ndtypes: float64(4), int64(4), object(1), uint8(5)\nmemory usage: 1.2+ MB\n"
    }
   ],
   "source": [
    "Data_clean = pd.merge(Data_clean, ZipCode['Feq_default_ZipCode'], on='ZIP')\n",
    "Data_clean.info()"
   ]
  },
  {
   "cell_type": "code",
   "execution_count": 53,
   "metadata": {},
   "outputs": [
    {
     "output_type": "execute_result",
     "data": {
      "text/plain": "   month  Age  Amount_netCN  TermOfPaymentDays  GDP by State  \\\n0     12   68        204.59                110       29400.0   \n1     11   61         41.87                139       29400.0   \n2     11   61        249.50                 30       29400.0   \n3     10   64         58.78                 30       29400.0   \n4     10   85         80.67                 30       29400.0   \n\n   Unemployment rate    ZIP  DefaultStatus  month1  month2  month3  month4  \\\n0              0.057  15890              0       0       0       0       0   \n1              0.057  15890              0       0       0       0       1   \n2              0.057  15890              0       0       0       0       1   \n3              0.057  15890              0       0       0       1       0   \n4              0.057  15890              0       0       0       1       0   \n\n   month5  Feq_default_ZipCode  \n0       1                  0.0  \n1       0                  0.0  \n2       0                  0.0  \n3       0                  0.0  \n4       0                  0.0  ",
      "text/html": "<div>\n<style scoped>\n    .dataframe tbody tr th:only-of-type {\n        vertical-align: middle;\n    }\n\n    .dataframe tbody tr th {\n        vertical-align: top;\n    }\n\n    .dataframe thead th {\n        text-align: right;\n    }\n</style>\n<table border=\"1\" class=\"dataframe\">\n  <thead>\n    <tr style=\"text-align: right;\">\n      <th></th>\n      <th>month</th>\n      <th>Age</th>\n      <th>Amount_netCN</th>\n      <th>TermOfPaymentDays</th>\n      <th>GDP by State</th>\n      <th>Unemployment rate</th>\n      <th>ZIP</th>\n      <th>DefaultStatus</th>\n      <th>month1</th>\n      <th>month2</th>\n      <th>month3</th>\n      <th>month4</th>\n      <th>month5</th>\n      <th>Feq_default_ZipCode</th>\n    </tr>\n  </thead>\n  <tbody>\n    <tr>\n      <td>0</td>\n      <td>12</td>\n      <td>68</td>\n      <td>204.59</td>\n      <td>110</td>\n      <td>29400.0</td>\n      <td>0.057</td>\n      <td>15890</td>\n      <td>0</td>\n      <td>0</td>\n      <td>0</td>\n      <td>0</td>\n      <td>0</td>\n      <td>1</td>\n      <td>0.0</td>\n    </tr>\n    <tr>\n      <td>1</td>\n      <td>11</td>\n      <td>61</td>\n      <td>41.87</td>\n      <td>139</td>\n      <td>29400.0</td>\n      <td>0.057</td>\n      <td>15890</td>\n      <td>0</td>\n      <td>0</td>\n      <td>0</td>\n      <td>0</td>\n      <td>1</td>\n      <td>0</td>\n      <td>0.0</td>\n    </tr>\n    <tr>\n      <td>2</td>\n      <td>11</td>\n      <td>61</td>\n      <td>249.50</td>\n      <td>30</td>\n      <td>29400.0</td>\n      <td>0.057</td>\n      <td>15890</td>\n      <td>0</td>\n      <td>0</td>\n      <td>0</td>\n      <td>0</td>\n      <td>1</td>\n      <td>0</td>\n      <td>0.0</td>\n    </tr>\n    <tr>\n      <td>3</td>\n      <td>10</td>\n      <td>64</td>\n      <td>58.78</td>\n      <td>30</td>\n      <td>29400.0</td>\n      <td>0.057</td>\n      <td>15890</td>\n      <td>0</td>\n      <td>0</td>\n      <td>0</td>\n      <td>1</td>\n      <td>0</td>\n      <td>0</td>\n      <td>0.0</td>\n    </tr>\n    <tr>\n      <td>4</td>\n      <td>10</td>\n      <td>85</td>\n      <td>80.67</td>\n      <td>30</td>\n      <td>29400.0</td>\n      <td>0.057</td>\n      <td>15890</td>\n      <td>0</td>\n      <td>0</td>\n      <td>0</td>\n      <td>1</td>\n      <td>0</td>\n      <td>0</td>\n      <td>0.0</td>\n    </tr>\n  </tbody>\n</table>\n</div>"
     },
     "metadata": {},
     "execution_count": 53
    }
   ],
   "source": [
    "Data_clean.head()"
   ]
  },
  {
   "cell_type": "code",
   "execution_count": 54,
   "metadata": {},
   "outputs": [],
   "source": [
    "# Data_clean.drop(columns=['month', 'ZIP'], inplace=True)\n",
    "# Data_clean.head()"
   ]
  },
  {
   "cell_type": "code",
   "execution_count": 55,
   "metadata": {},
   "outputs": [],
   "source": [
    "# Data_clean.to_excel('Data_clean_noGeo.xlsx', index = False)"
   ]
  },
  {
   "cell_type": "code",
   "execution_count": 56,
   "metadata": {},
   "outputs": [],
   "source": [
    "# #Read data\n",
    "# Data_clean = pd.read_excel('Data_clean_noGeo.xlsx')\n",
    "# Data_clean.head()"
   ]
  },
  {
   "cell_type": "code",
   "execution_count": 57,
   "metadata": {},
   "outputs": [
    {
     "output_type": "stream",
     "name": "stdout",
     "text": "<class 'pandas.core.frame.DataFrame'>\nInt64Index: 14771 entries, 0 to 14770\nData columns (total 14 columns):\nmonth                  14771 non-null int64\nAge                    14771 non-null int64\nAmount_netCN           14771 non-null float64\nTermOfPaymentDays      14771 non-null int64\nGDP by State           14771 non-null float64\nUnemployment rate      14771 non-null float64\nZIP                    14771 non-null object\nDefaultStatus          14771 non-null int64\nmonth1                 14771 non-null uint8\nmonth2                 14771 non-null uint8\nmonth3                 14771 non-null uint8\nmonth4                 14771 non-null uint8\nmonth5                 14771 non-null uint8\nFeq_default_ZipCode    14771 non-null float64\ndtypes: float64(4), int64(4), object(1), uint8(5)\nmemory usage: 1.2+ MB\n"
    }
   ],
   "source": [
    "Data_clean.info()"
   ]
  },
  {
   "cell_type": "code",
   "execution_count": 58,
   "metadata": {},
   "outputs": [
    {
     "output_type": "stream",
     "name": "stdout",
     "text": "0    13865\n1      906\nName: DefaultStatus, dtype: int64\n"
    }
   ],
   "source": [
    "# Check the values created by the predict method\n",
    "print(Data_clean['DefaultStatus'].value_counts())"
   ]
  },
  {
   "cell_type": "code",
   "execution_count": 59,
   "metadata": {},
   "outputs": [],
   "source": [
    "count_nondefault, count_default = Data_clean['DefaultStatus'].value_counts()"
   ]
  },
  {
   "cell_type": "code",
   "execution_count": 60,
   "metadata": {},
   "outputs": [
    {
     "output_type": "execute_result",
     "data": {
      "text/plain": "13865"
     },
     "metadata": {},
     "execution_count": 60
    }
   ],
   "source": [
    "count_nondefault"
   ]
  },
  {
   "cell_type": "code",
   "execution_count": 61,
   "metadata": {},
   "outputs": [],
   "source": [
    "# Create data sets for defaults and non-defaults\n",
    "nondefaults = Data_clean [Data_clean ['DefaultStatus'] == 0]\n",
    "defaults = Data_clean [Data_clean ['DefaultStatus'] == 1]"
   ]
  },
  {
   "cell_type": "code",
   "execution_count": 62,
   "metadata": {},
   "outputs": [
    {
     "output_type": "execute_result",
     "data": {
      "text/plain": "       month  Age  Amount_netCN  TermOfPaymentDays  GDP by State  \\\n0         12   68        204.59                110       29400.0   \n1         11   61         41.87                139       29400.0   \n2         11   61        249.50                 30       29400.0   \n3         10   64         58.78                 30       29400.0   \n4         10   85         80.67                 30       29400.0   \n...      ...  ...           ...                ...           ...   \n14766      8   47        150.67                 30       47900.0   \n14767      8   63        154.57                 30       47900.0   \n14768      8   58        130.77                 30       29700.0   \n14769      8   64        130.77                 30       46300.0   \n14770      8   54         50.88                 30       47900.0   \n\n       Unemployment rate    ZIP  DefaultStatus  month1  month2  month3  \\\n0                  0.057  15890              0       0       0       0   \n1                  0.057  15890              0       0       0       0   \n2                  0.057  15890              0       0       0       0   \n3                  0.057  15890              0       0       0       1   \n4                  0.057  15890              0       0       0       1   \n...                  ...    ...            ...     ...     ...     ...   \n14766              0.027  91620              0       1       0       0   \n14767              0.027  82049              0       1       0       0   \n14768              0.052   7330              0       1       0       0   \n14769              0.031  72275              0       1       0       0   \n14770              0.027  89352              0       1       0       0   \n\n       month4  month5  Feq_default_ZipCode  \n0           0       1                  0.0  \n1           1       0                  0.0  \n2           1       0                  0.0  \n3           0       0                  0.0  \n4           0       0                  0.0  \n...       ...     ...                  ...  \n14766       0       0                  0.0  \n14767       0       0                  0.0  \n14768       0       0                  0.0  \n14769       0       0                  0.0  \n14770       0       0                  0.0  \n\n[13865 rows x 14 columns]",
      "text/html": "<div>\n<style scoped>\n    .dataframe tbody tr th:only-of-type {\n        vertical-align: middle;\n    }\n\n    .dataframe tbody tr th {\n        vertical-align: top;\n    }\n\n    .dataframe thead th {\n        text-align: right;\n    }\n</style>\n<table border=\"1\" class=\"dataframe\">\n  <thead>\n    <tr style=\"text-align: right;\">\n      <th></th>\n      <th>month</th>\n      <th>Age</th>\n      <th>Amount_netCN</th>\n      <th>TermOfPaymentDays</th>\n      <th>GDP by State</th>\n      <th>Unemployment rate</th>\n      <th>ZIP</th>\n      <th>DefaultStatus</th>\n      <th>month1</th>\n      <th>month2</th>\n      <th>month3</th>\n      <th>month4</th>\n      <th>month5</th>\n      <th>Feq_default_ZipCode</th>\n    </tr>\n  </thead>\n  <tbody>\n    <tr>\n      <td>0</td>\n      <td>12</td>\n      <td>68</td>\n      <td>204.59</td>\n      <td>110</td>\n      <td>29400.0</td>\n      <td>0.057</td>\n      <td>15890</td>\n      <td>0</td>\n      <td>0</td>\n      <td>0</td>\n      <td>0</td>\n      <td>0</td>\n      <td>1</td>\n      <td>0.0</td>\n    </tr>\n    <tr>\n      <td>1</td>\n      <td>11</td>\n      <td>61</td>\n      <td>41.87</td>\n      <td>139</td>\n      <td>29400.0</td>\n      <td>0.057</td>\n      <td>15890</td>\n      <td>0</td>\n      <td>0</td>\n      <td>0</td>\n      <td>0</td>\n      <td>1</td>\n      <td>0</td>\n      <td>0.0</td>\n    </tr>\n    <tr>\n      <td>2</td>\n      <td>11</td>\n      <td>61</td>\n      <td>249.50</td>\n      <td>30</td>\n      <td>29400.0</td>\n      <td>0.057</td>\n      <td>15890</td>\n      <td>0</td>\n      <td>0</td>\n      <td>0</td>\n      <td>0</td>\n      <td>1</td>\n      <td>0</td>\n      <td>0.0</td>\n    </tr>\n    <tr>\n      <td>3</td>\n      <td>10</td>\n      <td>64</td>\n      <td>58.78</td>\n      <td>30</td>\n      <td>29400.0</td>\n      <td>0.057</td>\n      <td>15890</td>\n      <td>0</td>\n      <td>0</td>\n      <td>0</td>\n      <td>1</td>\n      <td>0</td>\n      <td>0</td>\n      <td>0.0</td>\n    </tr>\n    <tr>\n      <td>4</td>\n      <td>10</td>\n      <td>85</td>\n      <td>80.67</td>\n      <td>30</td>\n      <td>29400.0</td>\n      <td>0.057</td>\n      <td>15890</td>\n      <td>0</td>\n      <td>0</td>\n      <td>0</td>\n      <td>1</td>\n      <td>0</td>\n      <td>0</td>\n      <td>0.0</td>\n    </tr>\n    <tr>\n      <td>...</td>\n      <td>...</td>\n      <td>...</td>\n      <td>...</td>\n      <td>...</td>\n      <td>...</td>\n      <td>...</td>\n      <td>...</td>\n      <td>...</td>\n      <td>...</td>\n      <td>...</td>\n      <td>...</td>\n      <td>...</td>\n      <td>...</td>\n      <td>...</td>\n    </tr>\n    <tr>\n      <td>14766</td>\n      <td>8</td>\n      <td>47</td>\n      <td>150.67</td>\n      <td>30</td>\n      <td>47900.0</td>\n      <td>0.027</td>\n      <td>91620</td>\n      <td>0</td>\n      <td>1</td>\n      <td>0</td>\n      <td>0</td>\n      <td>0</td>\n      <td>0</td>\n      <td>0.0</td>\n    </tr>\n    <tr>\n      <td>14767</td>\n      <td>8</td>\n      <td>63</td>\n      <td>154.57</td>\n      <td>30</td>\n      <td>47900.0</td>\n      <td>0.027</td>\n      <td>82049</td>\n      <td>0</td>\n      <td>1</td>\n      <td>0</td>\n      <td>0</td>\n      <td>0</td>\n      <td>0</td>\n      <td>0.0</td>\n    </tr>\n    <tr>\n      <td>14768</td>\n      <td>8</td>\n      <td>58</td>\n      <td>130.77</td>\n      <td>30</td>\n      <td>29700.0</td>\n      <td>0.052</td>\n      <td>7330</td>\n      <td>0</td>\n      <td>1</td>\n      <td>0</td>\n      <td>0</td>\n      <td>0</td>\n      <td>0</td>\n      <td>0.0</td>\n    </tr>\n    <tr>\n      <td>14769</td>\n      <td>8</td>\n      <td>64</td>\n      <td>130.77</td>\n      <td>30</td>\n      <td>46300.0</td>\n      <td>0.031</td>\n      <td>72275</td>\n      <td>0</td>\n      <td>1</td>\n      <td>0</td>\n      <td>0</td>\n      <td>0</td>\n      <td>0</td>\n      <td>0.0</td>\n    </tr>\n    <tr>\n      <td>14770</td>\n      <td>8</td>\n      <td>54</td>\n      <td>50.88</td>\n      <td>30</td>\n      <td>47900.0</td>\n      <td>0.027</td>\n      <td>89352</td>\n      <td>0</td>\n      <td>1</td>\n      <td>0</td>\n      <td>0</td>\n      <td>0</td>\n      <td>0</td>\n      <td>0.0</td>\n    </tr>\n  </tbody>\n</table>\n<p>13865 rows × 14 columns</p>\n</div>"
     },
     "metadata": {},
     "execution_count": 62
    }
   ],
   "source": [
    "nondefaults"
   ]
  },
  {
   "cell_type": "code",
   "execution_count": 63,
   "metadata": {},
   "outputs": [
    {
     "output_type": "stream",
     "name": "stdout",
     "text": "1    906\n0    906\nName: DefaultStatus, dtype: int64\n"
    }
   ],
   "source": [
    "# Undersample the non-defaults\n",
    "nondefaults_under = nondefaults.sample(count_default)\n",
    "\n",
    "# Concatenate the undersampled nondefaults with defaults\n",
    "data_balanced = pd.concat([nondefaults_under.reset_index(drop = True),\n",
    "                             defaults.reset_index(drop = True)], axis = 0)\n",
    "\n",
    "# Print the value counts for loan status\n",
    "print(data_balanced['DefaultStatus'].value_counts())"
   ]
  },
  {
   "cell_type": "code",
   "execution_count": 64,
   "metadata": {},
   "outputs": [
    {
     "output_type": "stream",
     "name": "stdout",
     "text": "<class 'pandas.core.frame.DataFrame'>\nInt64Index: 1812 entries, 0 to 905\nData columns (total 14 columns):\nmonth                  1812 non-null int64\nAge                    1812 non-null int64\nAmount_netCN           1812 non-null float64\nTermOfPaymentDays      1812 non-null int64\nGDP by State           1812 non-null float64\nUnemployment rate      1812 non-null float64\nZIP                    1812 non-null object\nDefaultStatus          1812 non-null int64\nmonth1                 1812 non-null uint8\nmonth2                 1812 non-null uint8\nmonth3                 1812 non-null uint8\nmonth4                 1812 non-null uint8\nmonth5                 1812 non-null uint8\nFeq_default_ZipCode    1812 non-null float64\ndtypes: float64(4), int64(4), object(1), uint8(5)\nmemory usage: 150.4+ KB\n"
    }
   ],
   "source": [
    "data_balanced.info()"
   ]
  },
  {
   "cell_type": "code",
   "execution_count": 65,
   "metadata": {},
   "outputs": [
    {
     "output_type": "execute_result",
     "data": {
      "text/plain": "   month  Age  Amount_netCN  TermOfPaymentDays  GDP by State  \\\n0      9   52         42.89                 30       37100.0   \n1     11   65          9.99                 30       46300.0   \n2      9   58         50.87                 30       29400.0   \n3     10   60         80.78                 30       47900.0   \n4     10   51         49.90                 30       39400.0   \n\n   Unemployment rate    ZIP  DefaultStatus  month1  month2  month3  month4  \\\n0              0.051  26349              0       0       1       0       0   \n1              0.031  79285              0       0       0       0       1   \n2              0.057  15898              0       0       1       0       0   \n3              0.027  63785              0       0       0       1       0   \n4              0.066  33758              0       0       0       1       0   \n\n   month5  Feq_default_ZipCode  \n0       0                  0.0  \n1       0                  0.0  \n2       0                  0.0  \n3       0                  0.0  \n4       0                  0.0  ",
      "text/html": "<div>\n<style scoped>\n    .dataframe tbody tr th:only-of-type {\n        vertical-align: middle;\n    }\n\n    .dataframe tbody tr th {\n        vertical-align: top;\n    }\n\n    .dataframe thead th {\n        text-align: right;\n    }\n</style>\n<table border=\"1\" class=\"dataframe\">\n  <thead>\n    <tr style=\"text-align: right;\">\n      <th></th>\n      <th>month</th>\n      <th>Age</th>\n      <th>Amount_netCN</th>\n      <th>TermOfPaymentDays</th>\n      <th>GDP by State</th>\n      <th>Unemployment rate</th>\n      <th>ZIP</th>\n      <th>DefaultStatus</th>\n      <th>month1</th>\n      <th>month2</th>\n      <th>month3</th>\n      <th>month4</th>\n      <th>month5</th>\n      <th>Feq_default_ZipCode</th>\n    </tr>\n  </thead>\n  <tbody>\n    <tr>\n      <td>0</td>\n      <td>9</td>\n      <td>52</td>\n      <td>42.89</td>\n      <td>30</td>\n      <td>37100.0</td>\n      <td>0.051</td>\n      <td>26349</td>\n      <td>0</td>\n      <td>0</td>\n      <td>1</td>\n      <td>0</td>\n      <td>0</td>\n      <td>0</td>\n      <td>0.0</td>\n    </tr>\n    <tr>\n      <td>1</td>\n      <td>11</td>\n      <td>65</td>\n      <td>9.99</td>\n      <td>30</td>\n      <td>46300.0</td>\n      <td>0.031</td>\n      <td>79285</td>\n      <td>0</td>\n      <td>0</td>\n      <td>0</td>\n      <td>0</td>\n      <td>1</td>\n      <td>0</td>\n      <td>0.0</td>\n    </tr>\n    <tr>\n      <td>2</td>\n      <td>9</td>\n      <td>58</td>\n      <td>50.87</td>\n      <td>30</td>\n      <td>29400.0</td>\n      <td>0.057</td>\n      <td>15898</td>\n      <td>0</td>\n      <td>0</td>\n      <td>1</td>\n      <td>0</td>\n      <td>0</td>\n      <td>0</td>\n      <td>0.0</td>\n    </tr>\n    <tr>\n      <td>3</td>\n      <td>10</td>\n      <td>60</td>\n      <td>80.78</td>\n      <td>30</td>\n      <td>47900.0</td>\n      <td>0.027</td>\n      <td>63785</td>\n      <td>0</td>\n      <td>0</td>\n      <td>0</td>\n      <td>1</td>\n      <td>0</td>\n      <td>0</td>\n      <td>0.0</td>\n    </tr>\n    <tr>\n      <td>4</td>\n      <td>10</td>\n      <td>51</td>\n      <td>49.90</td>\n      <td>30</td>\n      <td>39400.0</td>\n      <td>0.066</td>\n      <td>33758</td>\n      <td>0</td>\n      <td>0</td>\n      <td>0</td>\n      <td>1</td>\n      <td>0</td>\n      <td>0</td>\n      <td>0.0</td>\n    </tr>\n  </tbody>\n</table>\n</div>"
     },
     "metadata": {},
     "execution_count": 65
    }
   ],
   "source": [
    "data_balanced.head()"
   ]
  },
  {
   "cell_type": "code",
   "execution_count": 66,
   "metadata": {},
   "outputs": [],
   "source": [
    "data_balanced.to_excel('data_balanced_month.xlsx', index = False)"
   ]
  },
  {
   "cell_type": "code",
   "execution_count": null,
   "metadata": {},
   "outputs": [],
   "source": []
  }
 ],
 "metadata": {
  "language_info": {
   "codemirror_mode": {
    "name": "ipython",
    "version": 3
   },
   "file_extension": ".py",
   "mimetype": "text/x-python",
   "name": "python",
   "nbconvert_exporter": "python",
   "pygments_lexer": "ipython3",
   "version": "3.7.3-final"
  },
  "orig_nbformat": 2,
  "kernelspec": {
   "name": "python37364bitaeddb42db20b4156b87aeecf11ea40bf",
   "display_name": "Python 3.7.3 64-bit"
  }
 },
 "nbformat": 4,
 "nbformat_minor": 2
}